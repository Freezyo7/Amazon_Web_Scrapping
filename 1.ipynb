{
 "cells": [
  {
   "cell_type": "code",
   "execution_count": null,
   "id": "629dbc3a",
   "metadata": {},
   "outputs": [],
   "source": [
    "import requests\n",
    "from bs4 import BeautifulSoup\n",
    "import csv\n",
    "import time"
   ]
  },
  {
   "cell_type": "markdown",
   "id": "83607021",
   "metadata": {},
   "source": [
    "Link And Header"
   ]
  },
  {
   "cell_type": "code",
   "execution_count": null,
   "id": "dcea0154",
   "metadata": {},
   "outputs": [],
   "source": [
    "URL=\"https://www.amazon.in/s?k=laptops&crid=AF964DR5SHCU&sprefix=laptops%2Caps%2C225&ref=nb_sb_noss_2\"\n",
    "\n",
    "HEADERS= {\n",
    "    \"User-Agent\": \"Mozilla/5.0 (Windows NT 10.0; Win64; x64) AppleWebKit/537.36 (KHTML, like Gecko) Chrome/136.0.0.0 Safari/537.36\",'Accept-Language': 'en-US, en;q=0.5'\n",
    "}"
   ]
  },
  {
   "cell_type": "markdown",
   "id": "09912a72",
   "metadata": {},
   "source": [
    "Home page\n"
   ]
  },
  {
   "cell_type": "code",
   "execution_count": null,
   "id": "071261e4",
   "metadata": {},
   "outputs": [],
   "source": [
    "webpage=requests.get(URL,headers=HEADERS)\n",
    "\n",
    "#parses the html content\n",
    "soup = BeautifulSoup(webpage.content,\"html.parser\") #this will convert into html file"
   ]
  },
  {
   "cell_type": "markdown",
   "id": "2f8ed390",
   "metadata": {},
   "source": [
    "Product page"
   ]
  },
  {
   "cell_type": "code",
   "execution_count": null,
   "id": "59ca6f9b",
   "metadata": {},
   "outputs": [],
   "source": [
    "#through css\n",
    "product_container = soup.select(\"a.a-link-normal.s-line-clamp-2.s-link-style.a-text-normal\")\n"
   ]
  },
  {
   "cell_type": "markdown",
   "id": "04fcbe8c",
   "metadata": {},
   "source": [
    "Product Info"
   ]
  },
  {
   "cell_type": "code",
   "execution_count": null,
   "id": "5b66318a",
   "metadata": {},
   "outputs": [],
   "source": [
    "with open(\"amazon_laptops.csv\", mode=\"w\", newline=\"\", encoding=\"utf-8-sig\") as file:\n",
    "    writer = csv.writer(file)\n",
    "\n",
    "    writer.writerow([\"Title\", \"Price\", \"Discount\", \"MRP\", \"Availability\", \"Rating\"])\n",
    "\n",
    "    for page_num in range(1,20):\n",
    "        URL_page=URL.format(page_num)\n",
    "        webpage=requests.get(URL_page,headers=HEADERS)\n",
    "        soup = BeautifulSoup(webpage.content,\"html.parser\")\n",
    "\n",
    "        product_container = soup.select(\"a.a-link-normal.s-line-clamp-2.s-link-style.a-text-normal\")\n",
    "\n",
    "\n",
    "        for product in product_container:\n",
    "            get_link=product.get('href')\n",
    "            product_link='https://www.amazon.in'+get_link\n",
    "\n",
    "            #Delay\n",
    "            time.sleep(random.uniform(1, 3))\n",
    "\n",
    "            product_webpage=requests.get(product_link, headers=HEADERS)\n",
    "            new_soup=BeautifulSoup(product_webpage.content, 'html.parser')\n",
    "\n",
    "            #title\n",
    "            try:    \n",
    "                title_text=new_soup.find(\"span\", attrs={'id':\"productTitle\"}).text.strip()\n",
    "            except AttributeError:\n",
    "                title_text=\"NA\"\n",
    "\n",
    "            #price\n",
    "            try:\n",
    "\n",
    "                symbol=new_soup.find(\"span\", attrs={'class':\"a-price-symbol\"}).text.strip()\n",
    "                price=new_soup.find(\"span\", attrs={\"class\":\"a-price-whole\"}).text.strip()\n",
    "                discounted_price_text=symbol+price\n",
    "            except AttributeError:\n",
    "                discounted_price_text=\"NA\"\n",
    "\n",
    "            #Discount\n",
    "            try:\n",
    "                discount=new_soup.find(\"span\", attrs={'class':\"a-size-large a-color-price savingPriceOverride aok-align-center reinventPriceSavingsPercentageMargin savingsPercentage\"}).text.strip()\n",
    "            except AttributeError:\n",
    "                discount=\"NA\"\n",
    "\n",
    "            #MRP\n",
    "            try:\n",
    "                Original_amount=new_soup.find(\"span\", attrs={'class':\"a-price a-text-price\"}).find(\"span\", attrs={'class':\"a-offscreen\"}).text.strip()\n",
    "            except AttributeError:\n",
    "                Original_amount=\"NA\"\n",
    "\n",
    "            #Availabilty \n",
    "            try:\n",
    "                available=new_soup.find(\"span\", attrs={\"class\":\"a-size-medium a-color-success\"}).text.strip()\n",
    "            except AttributeError:\n",
    "                available=\"NA\"\n",
    "\n",
    "            #Rating\n",
    "            try:\n",
    "                rating=new_soup.find(\"span\", attrs={'class':'a-icon-alt'}).text.strip()\n",
    "            except AttributeError:\n",
    "                rating=\"NA\"\n",
    "\n",
    "            writer.writerow([title_text, discounted_price_text, discount, Original_amount, available, rating])\n",
    "\n",
    "            print(f\"Saved: {title_text}\")\n",
    "\n",
    "    \n",
    "    \n",
    "\n",
    "    "
   ]
  }
 ],
 "metadata": {
  "kernelspec": {
   "display_name": "Python 3",
   "language": "python",
   "name": "python3"
  },
  "language_info": {
   "codemirror_mode": {
    "name": "ipython",
    "version": 3
   },
   "file_extension": ".py",
   "mimetype": "text/x-python",
   "name": "python",
   "nbconvert_exporter": "python",
   "pygments_lexer": "ipython3",
   "version": "3.13.2"
  }
 },
 "nbformat": 4,
 "nbformat_minor": 5
}
